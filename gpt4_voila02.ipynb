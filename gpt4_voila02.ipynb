{
 "cells": [
  {
   "cell_type": "code",
   "execution_count": 9,
   "id": "625a9cf9-f9cf-4821-9f22-5f9f373bf733",
   "metadata": {},
   "outputs": [
    {
     "data": {
      "application/vnd.jupyter.widget-view+json": {
       "model_id": "8400fe711e0c4ceba5c98bb2b51b57ce",
       "version_major": 2,
       "version_minor": 0
      },
      "text/plain": [
       "Output()"
      ]
     },
     "metadata": {},
     "output_type": "display_data"
    }
   ],
   "source": [
    "import pandas as pd\n",
    "import plotly.express as px\n",
    "import ipywidgets as widgets\n",
    "from IPython.display import display, clear_output\n",
    "\n",
    "# Load dataset\n",
    "df = pd.read_csv('aggregate_HRI_data.csv')\n",
    "\n",
    "# Clean column names if necessary (depends on data source)\n",
    "df = df.rename(columns={'Country Name': 'country', 'Human Rights Score': 'human_rights_score', 'Year': 'year'})\n",
    "\n",
    "# Sort data to ensure animation works smoothly\n",
    "df = df.sort_values(by=['year', 'country'])\n",
    "\n",
    "# Create an output widget to hold the map\n",
    "output_map = widgets.Output()\n",
    "\n",
    "# Function to generate and display the animated choropleth map\n",
    "def show_animated_map():\n",
    "    with output_map:\n",
    "        clear_output(wait=True)\n",
    "\n",
    "        fig = px.choropleth(\n",
    "            df,\n",
    "            locations=\"country\",\n",
    "            locationmode=\"country names\",\n",
    "            color=\"human_rights_score\",\n",
    "            color_continuous_scale=\"RdYlBu\",\n",
    "            animation_frame=\"year\",\n",
    "            hover_name=\"country\",\n",
    "            title=\"Global Human Rights Score Over Time\"\n",
    "        )\n",
    "        fig.update_layout(margin={\"r\": 0, \"t\": 40, \"l\": 0, \"b\": 0})\n",
    "        display(fig)\n",
    "\n",
    "# Display the map immediately when Voila loads\n",
    "show_animated_map()\n",
    "display(output_map)\n",
    "\n"
   ]
  },
  {
   "cell_type": "code",
   "execution_count": null,
   "id": "d08eca5e-36d4-40db-abb0-ea1e50da3453",
   "metadata": {},
   "outputs": [],
   "source": []
  }
 ],
 "metadata": {
  "kernelspec": {
   "display_name": "Python 3 (ipykernel)",
   "language": "python",
   "name": "python3"
  },
  "language_info": {
   "codemirror_mode": {
    "name": "ipython",
    "version": 3
   },
   "file_extension": ".py",
   "mimetype": "text/x-python",
   "name": "python",
   "nbconvert_exporter": "python",
   "pygments_lexer": "ipython3",
   "version": "3.12.7"
  }
 },
 "nbformat": 4,
 "nbformat_minor": 5
}
