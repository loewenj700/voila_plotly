{
 "cells": [
  {
   "cell_type": "code",
   "execution_count": 6,
   "id": "68f1d933-2a19-47ca-abb0-459f89b242a3",
   "metadata": {},
   "outputs": [
    {
     "name": "stdout",
     "output_type": "stream",
     "text": [
      "               country  year  human_rights_score\n",
      "0          Afghanistan  2021                22.0\n",
      "1              Albania  2021                62.0\n",
      "2              Algeria  2021                36.0\n",
      "3              Andorra  2021                88.0\n",
      "4               Angola  2021                46.0\n",
      "5  Antigua and Barbuda  2021                84.0\n",
      "6            Argentina  2021                60.0\n",
      "7              Armenia  2021                32.0\n",
      "8            Australia  2021                92.0\n",
      "9              Austria  2021                90.0\n"
     ]
    }
   ],
   "source": [
    "import pandas as pd\n",
    "\n",
    "# Load dataset\n",
    "file_path = 'aggregate_HRI_data.csv'\n",
    "df = pd.read_csv(file_path, usecols=['country', 'year', 'human_rights_score'])\n",
    "print(df.head(10))\n",
    "\n"
   ]
  },
  {
   "cell_type": "code",
   "execution_count": null,
   "id": "def23f79-6d71-4a55-abcb-cc9124a63386",
   "metadata": {},
   "outputs": [],
   "source": []
  }
 ],
 "metadata": {
  "kernelspec": {
   "display_name": "Python 3 (ipykernel)",
   "language": "python",
   "name": "python3"
  },
  "language_info": {
   "codemirror_mode": {
    "name": "ipython",
    "version": 3
   },
   "file_extension": ".py",
   "mimetype": "text/x-python",
   "name": "python",
   "nbconvert_exporter": "python",
   "pygments_lexer": "ipython3",
   "version": "3.12.7"
  }
 },
 "nbformat": 4,
 "nbformat_minor": 5
}
